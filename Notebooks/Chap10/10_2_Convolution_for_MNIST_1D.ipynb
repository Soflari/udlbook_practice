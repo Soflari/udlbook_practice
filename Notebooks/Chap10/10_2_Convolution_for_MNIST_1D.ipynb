{
  "nbformat": 4,
  "nbformat_minor": 0,
  "metadata": {
    "colab": {
      "provenance": [],
      "include_colab_link": true
    },
    "kernelspec": {
      "name": "python3",
      "display_name": "Python 3"
    },
    "language_info": {
      "name": "python"
    }
  },
  "cells": [
    {
      "cell_type": "markdown",
      "metadata": {
        "id": "view-in-github",
        "colab_type": "text"
      },
      "source": [
        "<a href=\"https://colab.research.google.com/github/Soflari/udlbook_practice/blob/main/Notebooks/Chap10/10_2_Convolution_for_MNIST_1D.ipynb\" target=\"_parent\"><img src=\"https://colab.research.google.com/assets/colab-badge.svg\" alt=\"Open In Colab\"/></a>"
      ]
    },
    {
      "cell_type": "markdown",
      "source": [
        "# **Notebook 10.2: Convolution for MNIST-1D**\n",
        "\n",
        "This notebook investigates a 1D convolutional network for MNIST-1D as in figure 10.7 and 10.8a.\n",
        "\n",
        "Work through the cells below, running each cell in turn. In various places you will see the words \"TODO\". Follow the instructions at these places and make predictions about what is going to happen or write code to complete the functions.\n",
        "\n",
        "Contact me at udlbookmail@gmail.com if you find any mistakes or have any suggestions.\n",
        "\n"
      ],
      "metadata": {
        "id": "t9vk9Elugvmi"
      }
    },
    {
      "cell_type": "code",
      "source": [
        "# Run this if you're in a Colab to install MNIST 1D repository\n",
        "!pip install git+https://github.com/greydanus/mnist1d"
      ],
      "metadata": {
        "id": "D5yLObtZCi9J",
        "outputId": "5a7bddfb-024d-4ae9-dc83-78d38f78c5a2",
        "colab": {
          "base_uri": "https://localhost:8080/"
        }
      },
      "execution_count": 3,
      "outputs": [
        {
          "output_type": "stream",
          "name": "stdout",
          "text": [
            "Collecting git+https://github.com/greydanus/mnist1d\n",
            "  Cloning https://github.com/greydanus/mnist1d to /tmp/pip-req-build-9d99mltd\n",
            "  Running command git clone --filter=blob:none --quiet https://github.com/greydanus/mnist1d /tmp/pip-req-build-9d99mltd\n",
            "  Resolved https://github.com/greydanus/mnist1d to commit 7878d96082abd200c546a07a4101fa90b30fdf7e\n",
            "  Installing build dependencies ... \u001b[?25l\u001b[?25hdone\n",
            "  Getting requirements to build wheel ... \u001b[?25l\u001b[?25hdone\n",
            "  Preparing metadata (pyproject.toml) ... \u001b[?25l\u001b[?25hdone\n",
            "Requirement already satisfied: requests in /usr/local/lib/python3.11/dist-packages (from mnist1d==0.0.2.post16) (2.32.3)\n",
            "Requirement already satisfied: numpy in /usr/local/lib/python3.11/dist-packages (from mnist1d==0.0.2.post16) (1.26.4)\n",
            "Requirement already satisfied: matplotlib in /usr/local/lib/python3.11/dist-packages (from mnist1d==0.0.2.post16) (3.10.0)\n",
            "Requirement already satisfied: scipy in /usr/local/lib/python3.11/dist-packages (from mnist1d==0.0.2.post16) (1.14.1)\n",
            "Requirement already satisfied: contourpy>=1.0.1 in /usr/local/lib/python3.11/dist-packages (from matplotlib->mnist1d==0.0.2.post16) (1.3.1)\n",
            "Requirement already satisfied: cycler>=0.10 in /usr/local/lib/python3.11/dist-packages (from matplotlib->mnist1d==0.0.2.post16) (0.12.1)\n",
            "Requirement already satisfied: fonttools>=4.22.0 in /usr/local/lib/python3.11/dist-packages (from matplotlib->mnist1d==0.0.2.post16) (4.56.0)\n",
            "Requirement already satisfied: kiwisolver>=1.3.1 in /usr/local/lib/python3.11/dist-packages (from matplotlib->mnist1d==0.0.2.post16) (1.4.8)\n",
            "Requirement already satisfied: packaging>=20.0 in /usr/local/lib/python3.11/dist-packages (from matplotlib->mnist1d==0.0.2.post16) (24.2)\n",
            "Requirement already satisfied: pillow>=8 in /usr/local/lib/python3.11/dist-packages (from matplotlib->mnist1d==0.0.2.post16) (11.1.0)\n",
            "Requirement already satisfied: pyparsing>=2.3.1 in /usr/local/lib/python3.11/dist-packages (from matplotlib->mnist1d==0.0.2.post16) (3.2.1)\n",
            "Requirement already satisfied: python-dateutil>=2.7 in /usr/local/lib/python3.11/dist-packages (from matplotlib->mnist1d==0.0.2.post16) (2.8.2)\n",
            "Requirement already satisfied: charset-normalizer<4,>=2 in /usr/local/lib/python3.11/dist-packages (from requests->mnist1d==0.0.2.post16) (3.4.1)\n",
            "Requirement already satisfied: idna<4,>=2.5 in /usr/local/lib/python3.11/dist-packages (from requests->mnist1d==0.0.2.post16) (3.10)\n",
            "Requirement already satisfied: urllib3<3,>=1.21.1 in /usr/local/lib/python3.11/dist-packages (from requests->mnist1d==0.0.2.post16) (2.3.0)\n",
            "Requirement already satisfied: certifi>=2017.4.17 in /usr/local/lib/python3.11/dist-packages (from requests->mnist1d==0.0.2.post16) (2025.1.31)\n",
            "Requirement already satisfied: six>=1.5 in /usr/local/lib/python3.11/dist-packages (from python-dateutil>=2.7->matplotlib->mnist1d==0.0.2.post16) (1.17.0)\n",
            "Building wheels for collected packages: mnist1d\n",
            "  Building wheel for mnist1d (pyproject.toml) ... \u001b[?25l\u001b[?25hdone\n",
            "  Created wheel for mnist1d: filename=mnist1d-0.0.2.post16-py3-none-any.whl size=14626 sha256=10fa8389d6484723c43e4a8751cb2f41ca55879233d0e59d70fa926da5f961c5\n",
            "  Stored in directory: /tmp/pip-ephem-wheel-cache-hzbrdxax/wheels/d6/38/42/3d2112bc7d915f6195254ac85eb761d922d1b18f52817aa8e2\n",
            "Successfully built mnist1d\n",
            "Installing collected packages: mnist1d\n",
            "Successfully installed mnist1d-0.0.2.post16\n"
          ]
        }
      ]
    },
    {
      "cell_type": "code",
      "source": [
        "import numpy as np\n",
        "import os\n",
        "import torch, torch.nn as nn\n",
        "from torch.utils.data import TensorDataset, DataLoader\n",
        "from torch.optim.lr_scheduler import StepLR\n",
        "import matplotlib.pyplot as plt\n",
        "import mnist1d\n",
        "import random"
      ],
      "metadata": {
        "id": "YrXWAH7sUWvU"
      },
      "execution_count": 4,
      "outputs": []
    },
    {
      "cell_type": "code",
      "source": [
        "args = mnist1d.data.get_dataset_args()\n",
        "data = mnist1d.data.get_dataset(args, path='./mnist1d_data.pkl', download=False, regenerate=False)\n",
        "\n",
        "# The training and test input and outputs are in\n",
        "# data['x'], data['y'], data['x_test'], and data['y_test']\n",
        "print(\"Examples in training set: {}\".format(len(data['y'])))\n",
        "print(\"Examples in test set: {}\".format(len(data['y_test'])))\n",
        "print(\"Length of each example: {}\".format(data['x'].shape[-1]))"
      ],
      "metadata": {
        "id": "twI72ZCrCt5z",
        "outputId": "984dfabf-63c9-4963-98f7-5705d2f62cec",
        "colab": {
          "base_uri": "https://localhost:8080/"
        }
      },
      "execution_count": 5,
      "outputs": [
        {
          "output_type": "stream",
          "name": "stdout",
          "text": [
            "Did or could not load data from ./mnist1d_data.pkl. Rebuilding dataset...\n",
            "Examples in training set: 4000\n",
            "Examples in test set: 1000\n",
            "Length of each example: 40\n"
          ]
        }
      ]
    },
    {
      "cell_type": "code",
      "source": [
        "# Load in the data\n",
        "train_data_x = data['x'].transpose()\n",
        "train_data_y = data['y']\n",
        "val_data_x = data['x_test'].transpose()\n",
        "val_data_y = data['y_test']\n",
        "# Print out sizes\n",
        "print(\"Train data: %d examples (columns), each of which has %d dimensions (rows)\"%((train_data_x.shape[1],train_data_x.shape[0])))\n",
        "print(\"Validation data: %d examples (columns), each of which has %d dimensions (rows)\"%((val_data_x.shape[1],val_data_x.shape[0])))"
      ],
      "metadata": {
        "id": "8bKADvLHbiV5",
        "outputId": "202b397b-6c93-401b-b5e2-4258beced1ec",
        "colab": {
          "base_uri": "https://localhost:8080/"
        }
      },
      "execution_count": 6,
      "outputs": [
        {
          "output_type": "stream",
          "name": "stdout",
          "text": [
            "Train data: 4000 examples (columns), each of which has 40 dimensions (rows)\n",
            "Validation data: 1000 examples (columns), each of which has 40 dimensions (rows)\n"
          ]
        }
      ]
    },
    {
      "cell_type": "markdown",
      "source": [
        "Define the network"
      ],
      "metadata": {
        "id": "_sFvRDGrl4qe"
      }
    },
    {
      "cell_type": "code",
      "source": [
        "# There are 40 input dimensions and 10 output dimensions for this data\n",
        "# The inputs correspond to the 40 offsets in the MNIST1D template.\n",
        "D_i = 40\n",
        "# The outputs correspond to the 10 digits\n",
        "D_o = 10\n",
        "\n",
        "\n",
        "# TODO Create a model with the following layers\n",
        "# 1. Convolutional layer, (input=length 40 and 1 channel, kernel size 3, stride 2, padding=\"valid\", 15 output channels )\n",
        "# 2. ReLU\n",
        "# 3. Convolutional layer, (input=length 19 and 15 channels, kernel size 3, stride 2, padding=\"valid\", 15 output channels )\n",
        "# 4. ReLU\n",
        "# 5. Convolutional layer, (input=length 9 and 15 channels, kernel size 3, stride 2, padding=\"valid\", 15 output channels)\n",
        "# 6. ReLU\n",
        "# 7. Flatten (converts 4x15) to length 60\n",
        "# 8. Linear layer (input size = 60, output size = 10)\n",
        "# References:\n",
        "# https://pytorch.org/docs/1.13/generated/torch.nn.Conv1d.html?highlight=conv1d#torch.nn.Conv1d\n",
        "# https://pytorch.org/docs/stable/generated/torch.nn.Flatten.html\n",
        "# https://pytorch.org/docs/1.13/generated/torch.nn.Linear.html?highlight=linear#torch.nn.Linear\n",
        "\n",
        "# NOTE THAT THE CONVOLUTIONAL LAYERS NEED TO TAKE THE NUMBER OF INPUT CHANNELS AS A PARAMETER\n",
        "# AND NOT THE INPUT SIZE.\n",
        "\n",
        "# Replace the following function:\n",
        "model = nn.Sequential(\n",
        "nn.Conv1d(1, 15, 3, stride=2, padding='valid'),\n",
        "nn.ReLU(),\n",
        "nn.Conv1d(15, 15, 3, stride=2, padding='valid'),\n",
        "nn.ReLU(),\n",
        "nn.Conv1d(15, 15, 3, stride=2, padding='valid'),\n",
        "nn.ReLU(),\n",
        "nn.Flatten(),\n",
        "nn.Linear(15*4, 10)\n",
        ")\n",
        "\n",
        "\n",
        "\n"
      ],
      "metadata": {
        "id": "FslroPJJffrh"
      },
      "execution_count": 13,
      "outputs": []
    },
    {
      "cell_type": "code",
      "source": [
        "# He initialization of weights\n",
        "def weights_init(layer_in):\n",
        "  if isinstance(layer_in, nn.Linear):\n",
        "    nn.init.kaiming_uniform_(layer_in.weight)\n",
        "    layer_in.bias.data.fill_(0.0)"
      ],
      "metadata": {
        "id": "YgLaex1pfhqz"
      },
      "execution_count": 14,
      "outputs": []
    },
    {
      "cell_type": "code",
      "source": [
        "# choose cross entropy loss function (equation 5.24 in the loss notes)\n",
        "loss_function = nn.CrossEntropyLoss()\n",
        "# construct SGD optimizer and initialize learning rate and momentum\n",
        "optimizer = torch.optim.SGD(model.parameters(), lr = 0.05, momentum=0.9)\n",
        "# object that decreases learning rate by half every 20 epochs\n",
        "scheduler = StepLR(optimizer, step_size=20, gamma=0.5)\n",
        "# create 100 dummy data points and store in data loader class\n",
        "x_train = torch.tensor(train_data_x.transpose().astype('float32'))\n",
        "y_train = torch.tensor(train_data_y.astype('long')).long()\n",
        "x_val= torch.tensor(val_data_x.transpose().astype('float32'))\n",
        "y_val = torch.tensor(val_data_y.astype('long')).long()\n",
        "\n",
        "# load the data into a class that creates the batches\n",
        "data_loader = DataLoader(TensorDataset(x_train,y_train), batch_size=100, shuffle=True, worker_init_fn=np.random.seed(1))\n",
        "\n",
        "# Initialize model weights\n",
        "model.apply(weights_init)\n",
        "\n",
        "# loop over the dataset n_epoch times\n",
        "n_epoch = 100\n",
        "# store the loss and the % correct at each epoch\n",
        "losses_train = np.zeros((n_epoch))\n",
        "errors_train = np.zeros((n_epoch))\n",
        "losses_val = np.zeros((n_epoch))\n",
        "errors_val = np.zeros((n_epoch))\n",
        "\n",
        "for epoch in range(n_epoch):\n",
        "  # loop over batches\n",
        "  for i, data in enumerate(data_loader):\n",
        "    # retrieve inputs and labels for this batch\n",
        "    x_batch, y_batch = data\n",
        "    # zero the parameter gradients\n",
        "    optimizer.zero_grad()\n",
        "    # forward pass -- calculate model output\n",
        "    pred = model(x_batch[:,None,:])\n",
        "    # compute the loss\n",
        "    loss = loss_function(pred, y_batch)\n",
        "    # backward pass\n",
        "    loss.backward()\n",
        "    # SGD update\n",
        "    optimizer.step()\n",
        "\n",
        "  # Run whole dataset to get statistics -- normally wouldn't do this\n",
        "  pred_train = model(x_train[:,None,:])\n",
        "  pred_val = model(x_val[:,None,:])\n",
        "  _, predicted_train_class = torch.max(pred_train.data, 1)\n",
        "  _, predicted_val_class = torch.max(pred_val.data, 1)\n",
        "  errors_train[epoch] = 100 - 100 * (predicted_train_class == y_train).float().sum() / len(y_train)\n",
        "  errors_val[epoch]= 100 - 100 * (predicted_val_class == y_val).float().sum() / len(y_val)\n",
        "  losses_train[epoch] = loss_function(pred_train, y_train).item()\n",
        "  losses_val[epoch]= loss_function(pred_val, y_val).item()\n",
        "  print(f'Epoch {epoch:5d}, train loss {losses_train[epoch]:.6f}, train error {errors_train[epoch]:3.2f},  val loss {losses_val[epoch]:.6f}, percent error {errors_val[epoch]:3.2f}')\n",
        "\n",
        "  # tell scheduler to consider updating learning rate\n",
        "  scheduler.step()\n",
        "\n",
        "# Plot the results\n",
        "fig, ax = plt.subplots()\n",
        "ax.plot(errors_train,'r-',label='train')\n",
        "ax.plot(errors_val,'b-',label='validation')\n",
        "ax.set_ylim(0,100); ax.set_xlim(0,n_epoch)\n",
        "ax.set_xlabel('Epoch'); ax.set_ylabel('Error')\n",
        "ax.set_title('Part I: Validation Result %3.2f'%(errors_val[-1]))\n",
        "ax.legend()\n",
        "plt.show()"
      ],
      "metadata": {
        "id": "NYw8I_3mmX5c",
        "outputId": "e093fdb6-a1eb-4502-935a-ffd080f2bde6",
        "colab": {
          "base_uri": "https://localhost:8080/",
          "height": 1000
        }
      },
      "execution_count": 15,
      "outputs": [
        {
          "output_type": "stream",
          "name": "stdout",
          "text": [
            "Epoch     0, train loss 1.989413, train error 75.70,  val loss 2.014479, percent error 78.30\n",
            "Epoch     1, train loss 1.609994, train error 62.17,  val loss 1.639762, percent error 65.50\n",
            "Epoch     2, train loss 1.341976, train error 54.03,  val loss 1.346263, percent error 57.50\n",
            "Epoch     3, train loss 1.245997, train error 50.20,  val loss 1.255275, percent error 51.80\n",
            "Epoch     4, train loss 1.174029, train error 48.15,  val loss 1.209896, percent error 51.70\n",
            "Epoch     5, train loss 1.106707, train error 45.42,  val loss 1.134355, percent error 46.50\n",
            "Epoch     6, train loss 1.096513, train error 42.62,  val loss 1.152209, percent error 46.00\n",
            "Epoch     7, train loss 0.920978, train error 35.82,  val loss 0.958500, percent error 37.90\n",
            "Epoch     8, train loss 0.801647, train error 32.32,  val loss 0.863087, percent error 36.00\n",
            "Epoch     9, train loss 0.712070, train error 28.50,  val loss 0.801147, percent error 32.50\n",
            "Epoch    10, train loss 0.702535, train error 27.05,  val loss 0.805400, percent error 31.30\n",
            "Epoch    11, train loss 0.553319, train error 21.00,  val loss 0.662341, percent error 26.00\n",
            "Epoch    12, train loss 0.567704, train error 21.38,  val loss 0.680432, percent error 26.10\n",
            "Epoch    13, train loss 0.518828, train error 18.93,  val loss 0.622568, percent error 22.90\n",
            "Epoch    14, train loss 0.412205, train error 14.18,  val loss 0.522782, percent error 19.10\n",
            "Epoch    15, train loss 0.362627, train error 12.65,  val loss 0.505698, percent error 17.60\n",
            "Epoch    16, train loss 0.342405, train error 11.68,  val loss 0.486716, percent error 17.60\n",
            "Epoch    17, train loss 0.305827, train error 10.85,  val loss 0.472894, percent error 17.20\n",
            "Epoch    18, train loss 0.274367, train error 9.30,  val loss 0.413701, percent error 15.60\n",
            "Epoch    19, train loss 0.263607, train error 9.43,  val loss 0.435267, percent error 15.30\n",
            "Epoch    20, train loss 0.246142, train error 8.70,  val loss 0.443762, percent error 13.60\n",
            "Epoch    21, train loss 0.201245, train error 7.07,  val loss 0.390854, percent error 13.10\n",
            "Epoch    22, train loss 0.178950, train error 5.97,  val loss 0.385977, percent error 12.80\n",
            "Epoch    23, train loss 0.159669, train error 5.10,  val loss 0.333954, percent error 10.50\n",
            "Epoch    24, train loss 0.158586, train error 5.03,  val loss 0.344896, percent error 11.00\n",
            "Epoch    25, train loss 0.150516, train error 4.90,  val loss 0.343537, percent error 10.70\n",
            "Epoch    26, train loss 0.153929, train error 5.20,  val loss 0.363901, percent error 10.80\n",
            "Epoch    27, train loss 0.136248, train error 4.55,  val loss 0.359627, percent error 10.40\n",
            "Epoch    28, train loss 0.130106, train error 4.68,  val loss 0.351179, percent error 10.80\n",
            "Epoch    29, train loss 0.125800, train error 4.05,  val loss 0.344502, percent error 10.50\n",
            "Epoch    30, train loss 0.140165, train error 5.05,  val loss 0.349648, percent error 9.80\n",
            "Epoch    31, train loss 0.110902, train error 3.45,  val loss 0.342258, percent error 10.90\n",
            "Epoch    32, train loss 0.111722, train error 3.72,  val loss 0.345294, percent error 10.50\n",
            "Epoch    33, train loss 0.117992, train error 4.18,  val loss 0.340350, percent error 10.30\n",
            "Epoch    34, train loss 0.102406, train error 3.75,  val loss 0.342723, percent error 10.00\n",
            "Epoch    35, train loss 0.104515, train error 3.25,  val loss 0.364057, percent error 11.20\n",
            "Epoch    36, train loss 0.089623, train error 2.90,  val loss 0.328954, percent error 9.40\n",
            "Epoch    37, train loss 0.093036, train error 2.90,  val loss 0.353132, percent error 9.70\n",
            "Epoch    38, train loss 0.118396, train error 4.40,  val loss 0.381891, percent error 11.60\n",
            "Epoch    39, train loss 0.141745, train error 5.35,  val loss 0.450103, percent error 11.40\n",
            "Epoch    40, train loss 0.071226, train error 1.90,  val loss 0.340825, percent error 9.70\n",
            "Epoch    41, train loss 0.066165, train error 1.88,  val loss 0.340121, percent error 9.60\n",
            "Epoch    42, train loss 0.064462, train error 1.82,  val loss 0.350758, percent error 9.50\n",
            "Epoch    43, train loss 0.062222, train error 1.57,  val loss 0.343846, percent error 9.50\n",
            "Epoch    44, train loss 0.063748, train error 1.62,  val loss 0.361299, percent error 9.80\n",
            "Epoch    45, train loss 0.059227, train error 1.45,  val loss 0.356742, percent error 9.90\n",
            "Epoch    46, train loss 0.061477, train error 1.55,  val loss 0.369962, percent error 9.30\n",
            "Epoch    47, train loss 0.059871, train error 1.60,  val loss 0.362592, percent error 9.70\n",
            "Epoch    48, train loss 0.053337, train error 1.40,  val loss 0.361539, percent error 9.50\n",
            "Epoch    49, train loss 0.060725, train error 1.62,  val loss 0.390957, percent error 10.30\n",
            "Epoch    50, train loss 0.058128, train error 1.55,  val loss 0.383822, percent error 9.80\n",
            "Epoch    51, train loss 0.053228, train error 1.25,  val loss 0.387205, percent error 10.10\n",
            "Epoch    52, train loss 0.049941, train error 1.35,  val loss 0.365745, percent error 9.80\n",
            "Epoch    53, train loss 0.056136, train error 1.50,  val loss 0.395289, percent error 10.00\n",
            "Epoch    54, train loss 0.049999, train error 1.10,  val loss 0.378077, percent error 10.00\n",
            "Epoch    55, train loss 0.048107, train error 1.12,  val loss 0.384061, percent error 9.80\n",
            "Epoch    56, train loss 0.047794, train error 1.25,  val loss 0.392205, percent error 10.20\n",
            "Epoch    57, train loss 0.043688, train error 1.07,  val loss 0.386442, percent error 9.40\n",
            "Epoch    58, train loss 0.044902, train error 1.07,  val loss 0.391792, percent error 9.30\n",
            "Epoch    59, train loss 0.043081, train error 0.97,  val loss 0.386746, percent error 9.80\n",
            "Epoch    60, train loss 0.039269, train error 0.80,  val loss 0.389625, percent error 9.50\n",
            "Epoch    61, train loss 0.038777, train error 0.85,  val loss 0.389749, percent error 9.60\n",
            "Epoch    62, train loss 0.038756, train error 0.80,  val loss 0.396814, percent error 9.80\n",
            "Epoch    63, train loss 0.037617, train error 0.78,  val loss 0.395551, percent error 9.70\n",
            "Epoch    64, train loss 0.038146, train error 0.80,  val loss 0.393456, percent error 9.30\n",
            "Epoch    65, train loss 0.038244, train error 0.75,  val loss 0.399708, percent error 9.70\n",
            "Epoch    66, train loss 0.037533, train error 0.78,  val loss 0.399022, percent error 9.70\n",
            "Epoch    67, train loss 0.036859, train error 0.78,  val loss 0.401925, percent error 9.70\n",
            "Epoch    68, train loss 0.036422, train error 0.80,  val loss 0.397903, percent error 9.70\n",
            "Epoch    69, train loss 0.035052, train error 0.70,  val loss 0.401736, percent error 9.70\n",
            "Epoch    70, train loss 0.034732, train error 0.62,  val loss 0.404547, percent error 9.90\n",
            "Epoch    71, train loss 0.034249, train error 0.60,  val loss 0.402700, percent error 9.70\n",
            "Epoch    72, train loss 0.034493, train error 0.68,  val loss 0.404400, percent error 9.50\n",
            "Epoch    73, train loss 0.034592, train error 0.65,  val loss 0.406386, percent error 9.70\n",
            "Epoch    74, train loss 0.033181, train error 0.62,  val loss 0.412110, percent error 9.90\n",
            "Epoch    75, train loss 0.033218, train error 0.65,  val loss 0.411195, percent error 10.00\n",
            "Epoch    76, train loss 0.032538, train error 0.57,  val loss 0.409553, percent error 9.70\n",
            "Epoch    77, train loss 0.032258, train error 0.53,  val loss 0.411387, percent error 9.60\n",
            "Epoch    78, train loss 0.031746, train error 0.50,  val loss 0.418526, percent error 9.80\n",
            "Epoch    79, train loss 0.031846, train error 0.45,  val loss 0.408627, percent error 9.60\n",
            "Epoch    80, train loss 0.031108, train error 0.57,  val loss 0.416177, percent error 9.60\n",
            "Epoch    81, train loss 0.030572, train error 0.43,  val loss 0.414178, percent error 9.80\n",
            "Epoch    82, train loss 0.030829, train error 0.47,  val loss 0.417687, percent error 9.70\n",
            "Epoch    83, train loss 0.030820, train error 0.53,  val loss 0.417032, percent error 9.80\n",
            "Epoch    84, train loss 0.030922, train error 0.60,  val loss 0.420098, percent error 9.60\n",
            "Epoch    85, train loss 0.030598, train error 0.47,  val loss 0.418346, percent error 9.60\n",
            "Epoch    86, train loss 0.030081, train error 0.45,  val loss 0.417764, percent error 9.80\n",
            "Epoch    87, train loss 0.030337, train error 0.50,  val loss 0.421130, percent error 9.50\n",
            "Epoch    88, train loss 0.029620, train error 0.50,  val loss 0.421869, percent error 9.60\n",
            "Epoch    89, train loss 0.029952, train error 0.47,  val loss 0.418143, percent error 10.10\n",
            "Epoch    90, train loss 0.029051, train error 0.38,  val loss 0.419126, percent error 9.50\n",
            "Epoch    91, train loss 0.028808, train error 0.38,  val loss 0.419477, percent error 9.70\n",
            "Epoch    92, train loss 0.029277, train error 0.40,  val loss 0.423452, percent error 9.70\n",
            "Epoch    93, train loss 0.028634, train error 0.35,  val loss 0.419763, percent error 9.70\n",
            "Epoch    94, train loss 0.028373, train error 0.40,  val loss 0.421655, percent error 9.90\n",
            "Epoch    95, train loss 0.028480, train error 0.45,  val loss 0.423008, percent error 9.80\n",
            "Epoch    96, train loss 0.028566, train error 0.35,  val loss 0.421556, percent error 9.50\n",
            "Epoch    97, train loss 0.027927, train error 0.32,  val loss 0.423156, percent error 9.70\n",
            "Epoch    98, train loss 0.027817, train error 0.30,  val loss 0.424141, percent error 9.50\n",
            "Epoch    99, train loss 0.027613, train error 0.35,  val loss 0.425461, percent error 9.80\n"
          ]
        },
        {
          "output_type": "display_data",
          "data": {
            "text/plain": [
              "<Figure size 640x480 with 1 Axes>"
            ],
            "image/png": "[encoded data removed]"
          },
          "metadata": {}
        }
      ]
    }
  ]
}